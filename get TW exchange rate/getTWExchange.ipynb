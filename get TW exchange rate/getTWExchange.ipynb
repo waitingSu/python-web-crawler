{
 "cells": [
  {
   "cell_type": "code",
   "execution_count": 91,
   "metadata": {},
   "outputs": [
    {
     "name": "stdout",
     "output_type": "stream",
     "text": [
      "     幣別        中文幣別\n",
      "0   USD    美金 (USD)\n",
      "1   HKD    港幣 (HKD)\n",
      "2   GBP    英鎊 (GBP)\n",
      "3   AUD    澳幣 (AUD)\n",
      "4   CAD  加拿大幣 (CAD)\n",
      "5   SGD  新加坡幣 (SGD)\n",
      "6   CHF  瑞士法郎 (CHF)\n",
      "7   JPY    日圓 (JPY)\n",
      "8   ZAR   南非幣 (ZAR)\n",
      "9   SEK   瑞典幣 (SEK)\n",
      "10  NZD    紐元 (NZD)\n",
      "11  THB    泰幣 (THB)\n",
      "12  PHP  菲國比索 (PHP)\n",
      "13  IDR   印尼幣 (IDR)\n",
      "14  EUR    歐元 (EUR)\n",
      "15  KRW    韓元 (KRW)\n",
      "16  VND   越南盾 (VND)\n",
      "17  MYR   馬來幣 (MYR)\n",
      "18  CNY   人民幣 (CNY)\n"
     ]
    }
   ],
   "source": [
    "# %load getTWExchange.py\n",
    "import twder\n",
    "import pandas as pd\n",
    "import numpy as np\n",
    "#source: https://github.com/jimms/twder\n",
    "'''\n",
    "currencies()\t                        傳回全部外幣代號 (list)\n",
    "currency_name_dict()\t                傳回全部外幣代號與其中文名稱  (dict)\n",
    "now(currency)\t                        傳回指定外幣目前之報價 (tuple)\n",
    "now_all()\t                            傳回全部外幣目前之報價  (dict)\n",
    "past_day(currency)\t                    傳回指定外幣昨日全部報價 (list)\n",
    "past_six_month(currency)\t            傳回指定外幣過去半年每天之收盤價 (list)\n",
    "specify_month(currency, year, month)\t傳回指定外幣在指定年月每天之收盤價 (list)\n",
    "'''\n",
    "# 列出所有貨幣代號/中文 \n",
    "df = pd.DataFrame(twder.currency_name_dict().items(),columns=[\"幣別\", \"中文幣別\"])\n",
    "display(df)"
   ]
  },
  {
   "cell_type": "code",
   "execution_count": 92,
   "metadata": {},
   "outputs": [
    {
     "ename": "ImportError",
     "evalue": "Missing optional dependency 'tabulate'.  Use pip or conda to install tabulate.",
     "output_type": "error",
     "traceback": [
      "\u001b[1;31m---------------------------------------------------------------------------\u001b[0m",
      "\u001b[1;31mImportError\u001b[0m                               Traceback (most recent call last)",
      "\u001b[1;32m<ipython-input-92-90aca7b376ef>\u001b[0m in \u001b[0;36m<module>\u001b[1;34m\u001b[0m\n\u001b[0;32m      6\u001b[0m     \u001b[0mcurrency_list\u001b[0m\u001b[1;33m.\u001b[0m\u001b[0mappend\u001b[0m\u001b[1;33m(\u001b[0m\u001b[1;33m[\u001b[0m\u001b[0mkey\u001b[0m\u001b[1;33m]\u001b[0m \u001b[1;33m+\u001b[0m \u001b[0mlist\u001b[0m\u001b[1;33m(\u001b[0m\u001b[0mvalue\u001b[0m\u001b[1;33m)\u001b[0m\u001b[1;33m)\u001b[0m\u001b[1;33m\u001b[0m\u001b[1;33m\u001b[0m\u001b[0m\n\u001b[0;32m      7\u001b[0m \u001b[0mdf\u001b[0m \u001b[1;33m=\u001b[0m \u001b[0mpd\u001b[0m\u001b[1;33m.\u001b[0m\u001b[0mDataFrame\u001b[0m\u001b[1;33m(\u001b[0m\u001b[0mcurrency_list\u001b[0m\u001b[1;33m,\u001b[0m\u001b[0mcolumns\u001b[0m\u001b[1;33m=\u001b[0m\u001b[1;33m[\u001b[0m\u001b[1;34m\"幣別\"\u001b[0m\u001b[1;33m,\u001b[0m\u001b[1;34m\"時間\"\u001b[0m\u001b[1;33m,\u001b[0m \u001b[1;34m\"現金買入\"\u001b[0m\u001b[1;33m,\u001b[0m \u001b[1;34m\"現金賣出\"\u001b[0m\u001b[1;33m,\u001b[0m \u001b[1;34m\"即期買入\"\u001b[0m\u001b[1;33m,\u001b[0m \u001b[1;34m\"即期賣出\"\u001b[0m\u001b[1;33m]\u001b[0m\u001b[1;33m)\u001b[0m\u001b[1;33m\u001b[0m\u001b[1;33m\u001b[0m\u001b[0m\n\u001b[1;32m----> 8\u001b[1;33m \u001b[0mdf\u001b[0m\u001b[1;33m.\u001b[0m\u001b[0mto_markdown\u001b[0m\u001b[1;33m(\u001b[0m\u001b[1;33m)\u001b[0m\u001b[1;33m\u001b[0m\u001b[1;33m\u001b[0m\u001b[0m\n\u001b[0m\u001b[0;32m      9\u001b[0m \u001b[1;33m\u001b[0m\u001b[0m\n\u001b[0;32m     10\u001b[0m \u001b[1;31m# {貨幣代碼: (時間, 現金買入, 現金賣出, 即期買入, 即期賣出), ...}\u001b[0m\u001b[1;33m\u001b[0m\u001b[1;33m\u001b[0m\u001b[1;33m\u001b[0m\u001b[0m\n",
      "\u001b[1;32mD:\\ProgramData\\Anaconda3\\lib\\site-packages\\pandas\\core\\frame.py\u001b[0m in \u001b[0;36mto_markdown\u001b[1;34m(self, buf, mode, **kwargs)\u001b[0m\n\u001b[0;32m   2015\u001b[0m         \u001b[0mkwargs\u001b[0m\u001b[1;33m.\u001b[0m\u001b[0msetdefault\u001b[0m\u001b[1;33m(\u001b[0m\u001b[1;34m\"headers\"\u001b[0m\u001b[1;33m,\u001b[0m \u001b[1;34m\"keys\"\u001b[0m\u001b[1;33m)\u001b[0m\u001b[1;33m\u001b[0m\u001b[1;33m\u001b[0m\u001b[0m\n\u001b[0;32m   2016\u001b[0m         \u001b[0mkwargs\u001b[0m\u001b[1;33m.\u001b[0m\u001b[0msetdefault\u001b[0m\u001b[1;33m(\u001b[0m\u001b[1;34m\"tablefmt\"\u001b[0m\u001b[1;33m,\u001b[0m \u001b[1;34m\"pipe\"\u001b[0m\u001b[1;33m)\u001b[0m\u001b[1;33m\u001b[0m\u001b[1;33m\u001b[0m\u001b[0m\n\u001b[1;32m-> 2017\u001b[1;33m         \u001b[0mtabulate\u001b[0m \u001b[1;33m=\u001b[0m \u001b[0mimport_optional_dependency\u001b[0m\u001b[1;33m(\u001b[0m\u001b[1;34m\"tabulate\"\u001b[0m\u001b[1;33m)\u001b[0m\u001b[1;33m\u001b[0m\u001b[1;33m\u001b[0m\u001b[0m\n\u001b[0m\u001b[0;32m   2018\u001b[0m         \u001b[0mresult\u001b[0m \u001b[1;33m=\u001b[0m \u001b[0mtabulate\u001b[0m\u001b[1;33m.\u001b[0m\u001b[0mtabulate\u001b[0m\u001b[1;33m(\u001b[0m\u001b[0mself\u001b[0m\u001b[1;33m,\u001b[0m \u001b[1;33m**\u001b[0m\u001b[0mkwargs\u001b[0m\u001b[1;33m)\u001b[0m\u001b[1;33m\u001b[0m\u001b[1;33m\u001b[0m\u001b[0m\n\u001b[0;32m   2019\u001b[0m         \u001b[1;32mif\u001b[0m \u001b[0mbuf\u001b[0m \u001b[1;32mis\u001b[0m \u001b[1;32mNone\u001b[0m\u001b[1;33m:\u001b[0m\u001b[1;33m\u001b[0m\u001b[1;33m\u001b[0m\u001b[0m\n",
      "\u001b[1;32mD:\\ProgramData\\Anaconda3\\lib\\site-packages\\pandas\\compat\\_optional.py\u001b[0m in \u001b[0;36mimport_optional_dependency\u001b[1;34m(name, extra, raise_on_missing, on_version)\u001b[0m\n\u001b[0;32m     90\u001b[0m     \u001b[1;32mexcept\u001b[0m \u001b[0mImportError\u001b[0m\u001b[1;33m:\u001b[0m\u001b[1;33m\u001b[0m\u001b[1;33m\u001b[0m\u001b[0m\n\u001b[0;32m     91\u001b[0m         \u001b[1;32mif\u001b[0m \u001b[0mraise_on_missing\u001b[0m\u001b[1;33m:\u001b[0m\u001b[1;33m\u001b[0m\u001b[1;33m\u001b[0m\u001b[0m\n\u001b[1;32m---> 92\u001b[1;33m             \u001b[1;32mraise\u001b[0m \u001b[0mImportError\u001b[0m\u001b[1;33m(\u001b[0m\u001b[0mmsg\u001b[0m\u001b[1;33m)\u001b[0m \u001b[1;32mfrom\u001b[0m \u001b[1;32mNone\u001b[0m\u001b[1;33m\u001b[0m\u001b[1;33m\u001b[0m\u001b[0m\n\u001b[0m\u001b[0;32m     93\u001b[0m         \u001b[1;32melse\u001b[0m\u001b[1;33m:\u001b[0m\u001b[1;33m\u001b[0m\u001b[1;33m\u001b[0m\u001b[0m\n\u001b[0;32m     94\u001b[0m             \u001b[1;32mreturn\u001b[0m \u001b[1;32mNone\u001b[0m\u001b[1;33m\u001b[0m\u001b[1;33m\u001b[0m\u001b[0m\n",
      "\u001b[1;31mImportError\u001b[0m: Missing optional dependency 'tabulate'.  Use pip or conda to install tabulate."
     ]
    }
   ],
   "source": [
    "# 擷取目前所有幣別報價\n",
    "#print(twder.now_all())\n",
    "# {貨幣代碼: (時間, 現金買入, 現金賣出, 即期買入, 即期賣出), ...}\n",
    "currency_list = []\n",
    "for key,value in twder.now_all().items() :\n",
    "    currency_list.append([key] + list(value))\n",
    "df = pd.DataFrame(currency_list,columns=[\"幣別\",\"時間\", \"現金買入\", \"現金賣出\", \"即期買入\", \"即期賣出\"])\n",
    "display(df)\n",
    "\n"
   ]
  }
 ],
 "metadata": {
  "kernelspec": {
   "display_name": "Python 3",
   "language": "python",
   "name": "python3"
  },
  "language_info": {
   "codemirror_mode": {
    "name": "ipython",
    "version": 3
   },
   "file_extension": ".py",
   "mimetype": "text/x-python",
   "name": "python",
   "nbconvert_exporter": "python",
   "pygments_lexer": "ipython3",
   "version": "3.7.6"
  }
 },
 "nbformat": 4,
 "nbformat_minor": 4
}
